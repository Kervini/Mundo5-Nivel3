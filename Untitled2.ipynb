{
  "metadata": {
    "kernelspec": {
      "name": "python",
      "display_name": "Python (Pyodide)",
      "language": "python"
    },
    "language_info": {
      "codemirror_mode": {
        "name": "python",
        "version": 3
      },
      "file_extension": ".py",
      "mimetype": "text/x-python",
      "name": "python",
      "nbconvert_exporter": "python",
      "pygments_lexer": "ipython3",
      "version": "3.8"
    }
  },
  "nbformat_minor": 5,
  "nbformat": 4,
  "cells": [
    {
      "id": "32120026-93ff-4e15-88db-7c57caeea8c9",
      "cell_type": "code",
      "source": "import pandas as pd\n\narq = pd.read_csv('./data/dados.csv', sep=';', engine='python', encoding='utf-8');\narq",
      "metadata": {
        "trusted": true
      },
      "outputs": [
        {
          "execution_count": 1,
          "output_type": "execute_result",
          "data": {
            "text/plain": "    ID  Duration          Date  Pulse  Maxpulse Calories\n0    0        60  '2020/12/01'    110       130     4091\n1    1        60  '2020/12/02'    117       145     4790\n2    2        60  '2020/12/03'    103       135     3400\n3    3        45  '2020/12/04'    109       175     2824\n4    4        45  '2020/12/05'    117       148     4060\n5    5        60  '2020/12/06'    102       127     3000\n6    6        60  '2020/12/07'    110       136     3740\n7    7       450  '2020/12/08'    104       134     2533\n8    8        30  '2020/12/09'    109       133     1951\n9    9        60  '2020/12/10'     98       124     2690\n10  10        60  '2020/12/11'    103       147     3293\n11  11        60  '2020/12/12'    100       120     2507\n12  12        60  '2020/12/12'    100       120     2507\n13  13        60  '2020/12/13'    106       128     3453\n14  14        60  '2020/12/14'    104       132     3793\n15  15        60  '2020/12/15'     98       123     2750\n16  16        60  '2020/12/16'     98       120     2152\n17  17        60  '2020/12/17'    100       120     3000\n18  18        45  '2020/12/18'     90       112      NaN\n19  19        60  '2020/12/19'    103       123     3230\n20  20        45  '2020/12/20'     97       125   2430 2\n21   1        60  '2020/12/21'    108       131     3642\n22  22        45           NaN    100       119     2820\n23  23        60  '2020/12/23'    130       101     3000\n24  24        45  '2020/12/24'    105       132     2460\n25  25        60  '2020/12/25'    102       126     3345\n26  26        60      20201226    100       120     2500\n27  27        60  '2020/12/27'     92       118     2410\n28  28        60  '2020/12/28'    103       132      NaN\n29  29        60  '2020/12/29'    100       132     2800\n30  30        60  '2020/12/30'    102       129     3803\n31  31        60  '2020/12/31'     92       115     2430",
            "text/html": "<div>\n<style scoped>\n    .dataframe tbody tr th:only-of-type {\n        vertical-align: middle;\n    }\n\n    .dataframe tbody tr th {\n        vertical-align: top;\n    }\n\n    .dataframe thead th {\n        text-align: right;\n    }\n</style>\n<table border=\"1\" class=\"dataframe\">\n  <thead>\n    <tr style=\"text-align: right;\">\n      <th></th>\n      <th>ID</th>\n      <th>Duration</th>\n      <th>Date</th>\n      <th>Pulse</th>\n      <th>Maxpulse</th>\n      <th>Calories</th>\n    </tr>\n  </thead>\n  <tbody>\n    <tr>\n      <th>0</th>\n      <td>0</td>\n      <td>60</td>\n      <td>'2020/12/01'</td>\n      <td>110</td>\n      <td>130</td>\n      <td>4091</td>\n    </tr>\n    <tr>\n      <th>1</th>\n      <td>1</td>\n      <td>60</td>\n      <td>'2020/12/02'</td>\n      <td>117</td>\n      <td>145</td>\n      <td>4790</td>\n    </tr>\n    <tr>\n      <th>2</th>\n      <td>2</td>\n      <td>60</td>\n      <td>'2020/12/03'</td>\n      <td>103</td>\n      <td>135</td>\n      <td>3400</td>\n    </tr>\n    <tr>\n      <th>3</th>\n      <td>3</td>\n      <td>45</td>\n      <td>'2020/12/04'</td>\n      <td>109</td>\n      <td>175</td>\n      <td>2824</td>\n    </tr>\n    <tr>\n      <th>4</th>\n      <td>4</td>\n      <td>45</td>\n      <td>'2020/12/05'</td>\n      <td>117</td>\n      <td>148</td>\n      <td>4060</td>\n    </tr>\n    <tr>\n      <th>5</th>\n      <td>5</td>\n      <td>60</td>\n      <td>'2020/12/06'</td>\n      <td>102</td>\n      <td>127</td>\n      <td>3000</td>\n    </tr>\n    <tr>\n      <th>6</th>\n      <td>6</td>\n      <td>60</td>\n      <td>'2020/12/07'</td>\n      <td>110</td>\n      <td>136</td>\n      <td>3740</td>\n    </tr>\n    <tr>\n      <th>7</th>\n      <td>7</td>\n      <td>450</td>\n      <td>'2020/12/08'</td>\n      <td>104</td>\n      <td>134</td>\n      <td>2533</td>\n    </tr>\n    <tr>\n      <th>8</th>\n      <td>8</td>\n      <td>30</td>\n      <td>'2020/12/09'</td>\n      <td>109</td>\n      <td>133</td>\n      <td>1951</td>\n    </tr>\n    <tr>\n      <th>9</th>\n      <td>9</td>\n      <td>60</td>\n      <td>'2020/12/10'</td>\n      <td>98</td>\n      <td>124</td>\n      <td>2690</td>\n    </tr>\n    <tr>\n      <th>10</th>\n      <td>10</td>\n      <td>60</td>\n      <td>'2020/12/11'</td>\n      <td>103</td>\n      <td>147</td>\n      <td>3293</td>\n    </tr>\n    <tr>\n      <th>11</th>\n      <td>11</td>\n      <td>60</td>\n      <td>'2020/12/12'</td>\n      <td>100</td>\n      <td>120</td>\n      <td>2507</td>\n    </tr>\n    <tr>\n      <th>12</th>\n      <td>12</td>\n      <td>60</td>\n      <td>'2020/12/12'</td>\n      <td>100</td>\n      <td>120</td>\n      <td>2507</td>\n    </tr>\n    <tr>\n      <th>13</th>\n      <td>13</td>\n      <td>60</td>\n      <td>'2020/12/13'</td>\n      <td>106</td>\n      <td>128</td>\n      <td>3453</td>\n    </tr>\n    <tr>\n      <th>14</th>\n      <td>14</td>\n      <td>60</td>\n      <td>'2020/12/14'</td>\n      <td>104</td>\n      <td>132</td>\n      <td>3793</td>\n    </tr>\n    <tr>\n      <th>15</th>\n      <td>15</td>\n      <td>60</td>\n      <td>'2020/12/15'</td>\n      <td>98</td>\n      <td>123</td>\n      <td>2750</td>\n    </tr>\n    <tr>\n      <th>16</th>\n      <td>16</td>\n      <td>60</td>\n      <td>'2020/12/16'</td>\n      <td>98</td>\n      <td>120</td>\n      <td>2152</td>\n    </tr>\n    <tr>\n      <th>17</th>\n      <td>17</td>\n      <td>60</td>\n      <td>'2020/12/17'</td>\n      <td>100</td>\n      <td>120</td>\n      <td>3000</td>\n    </tr>\n    <tr>\n      <th>18</th>\n      <td>18</td>\n      <td>45</td>\n      <td>'2020/12/18'</td>\n      <td>90</td>\n      <td>112</td>\n      <td>NaN</td>\n    </tr>\n    <tr>\n      <th>19</th>\n      <td>19</td>\n      <td>60</td>\n      <td>'2020/12/19'</td>\n      <td>103</td>\n      <td>123</td>\n      <td>3230</td>\n    </tr>\n    <tr>\n      <th>20</th>\n      <td>20</td>\n      <td>45</td>\n      <td>'2020/12/20'</td>\n      <td>97</td>\n      <td>125</td>\n      <td>2430 2</td>\n    </tr>\n    <tr>\n      <th>21</th>\n      <td>1</td>\n      <td>60</td>\n      <td>'2020/12/21'</td>\n      <td>108</td>\n      <td>131</td>\n      <td>3642</td>\n    </tr>\n    <tr>\n      <th>22</th>\n      <td>22</td>\n      <td>45</td>\n      <td>NaN</td>\n      <td>100</td>\n      <td>119</td>\n      <td>2820</td>\n    </tr>\n    <tr>\n      <th>23</th>\n      <td>23</td>\n      <td>60</td>\n      <td>'2020/12/23'</td>\n      <td>130</td>\n      <td>101</td>\n      <td>3000</td>\n    </tr>\n    <tr>\n      <th>24</th>\n      <td>24</td>\n      <td>45</td>\n      <td>'2020/12/24'</td>\n      <td>105</td>\n      <td>132</td>\n      <td>2460</td>\n    </tr>\n    <tr>\n      <th>25</th>\n      <td>25</td>\n      <td>60</td>\n      <td>'2020/12/25'</td>\n      <td>102</td>\n      <td>126</td>\n      <td>3345</td>\n    </tr>\n    <tr>\n      <th>26</th>\n      <td>26</td>\n      <td>60</td>\n      <td>20201226</td>\n      <td>100</td>\n      <td>120</td>\n      <td>2500</td>\n    </tr>\n    <tr>\n      <th>27</th>\n      <td>27</td>\n      <td>60</td>\n      <td>'2020/12/27'</td>\n      <td>92</td>\n      <td>118</td>\n      <td>2410</td>\n    </tr>\n    <tr>\n      <th>28</th>\n      <td>28</td>\n      <td>60</td>\n      <td>'2020/12/28'</td>\n      <td>103</td>\n      <td>132</td>\n      <td>NaN</td>\n    </tr>\n    <tr>\n      <th>29</th>\n      <td>29</td>\n      <td>60</td>\n      <td>'2020/12/29'</td>\n      <td>100</td>\n      <td>132</td>\n      <td>2800</td>\n    </tr>\n    <tr>\n      <th>30</th>\n      <td>30</td>\n      <td>60</td>\n      <td>'2020/12/30'</td>\n      <td>102</td>\n      <td>129</td>\n      <td>3803</td>\n    </tr>\n    <tr>\n      <th>31</th>\n      <td>31</td>\n      <td>60</td>\n      <td>'2020/12/31'</td>\n      <td>92</td>\n      <td>115</td>\n      <td>2430</td>\n    </tr>\n  </tbody>\n</table>\n</div>"
          },
          "metadata": {}
        }
      ],
      "execution_count": 1
    },
    {
      "id": "af47ede5-5f2a-424a-ad01-ed2bb326cbc3",
      "cell_type": "code",
      "source": "print(arq)\n",
      "metadata": {
        "trusted": true
      },
      "outputs": [
        {
          "name": "stdout",
          "output_type": "stream",
          "text": "    ID  Duration          Date  Pulse  Maxpulse Calories\n0    0        60  '2020/12/01'    110       130     4091\n1    1        60  '2020/12/02'    117       145     4790\n2    2        60  '2020/12/03'    103       135     3400\n3    3        45  '2020/12/04'    109       175     2824\n4    4        45  '2020/12/05'    117       148     4060\n5    5        60  '2020/12/06'    102       127     3000\n6    6        60  '2020/12/07'    110       136     3740\n7    7       450  '2020/12/08'    104       134     2533\n8    8        30  '2020/12/09'    109       133     1951\n9    9        60  '2020/12/10'     98       124     2690\n10  10        60  '2020/12/11'    103       147     3293\n11  11        60  '2020/12/12'    100       120     2507\n12  12        60  '2020/12/12'    100       120     2507\n13  13        60  '2020/12/13'    106       128     3453\n14  14        60  '2020/12/14'    104       132     3793\n15  15        60  '2020/12/15'     98       123     2750\n16  16        60  '2020/12/16'     98       120     2152\n17  17        60  '2020/12/17'    100       120     3000\n18  18        45  '2020/12/18'     90       112      NaN\n19  19        60  '2020/12/19'    103       123     3230\n20  20        45  '2020/12/20'     97       125   2430 2\n21   1        60  '2020/12/21'    108       131     3642\n22  22        45           NaN    100       119     2820\n23  23        60  '2020/12/23'    130       101     3000\n24  24        45  '2020/12/24'    105       132     2460\n25  25        60  '2020/12/25'    102       126     3345\n26  26        60      20201226    100       120     2500\n27  27        60  '2020/12/27'     92       118     2410\n28  28        60  '2020/12/28'    103       132      NaN\n29  29        60  '2020/12/29'    100       132     2800\n30  30        60  '2020/12/30'    102       129     3803\n31  31        60  '2020/12/31'     92       115     2430\n"
        }
      ],
      "execution_count": 2
    },
    {
      "id": "52c40ac7-fb12-4cd6-8050-158ae2466764",
      "cell_type": "code",
      "source": "print(arq.iloc[:3])",
      "metadata": {
        "trusted": true
      },
      "outputs": [
        {
          "name": "stdout",
          "output_type": "stream",
          "text": "   ID  Duration          Date  Pulse  Maxpulse Calories\n0   0        60  '2020/12/01'    110       130     4091\n1   1        60  '2020/12/02'    117       145     4790\n2   2        60  '2020/12/03'    103       135     3400\n"
        }
      ],
      "execution_count": 3
    },
    {
      "id": "44e621df-16e3-4ec8-9b66-a34c85a28512",
      "cell_type": "code",
      "source": "arq.iloc[20:]",
      "metadata": {
        "trusted": true
      },
      "outputs": [
        {
          "execution_count": 10,
          "output_type": "execute_result",
          "data": {
            "text/plain": "    ID  Duration          Date  Pulse  Maxpulse Calories\n20  20        45  '2020/12/20'     97       125   2430 2\n21   1        60  '2020/12/21'    108       131     3642\n22  22        45           NaN    100       119     2820\n23  23        60  '2020/12/23'    130       101     3000\n24  24        45  '2020/12/24'    105       132     2460\n25  25        60  '2020/12/25'    102       126     3345\n26  26        60      20201226    100       120     2500\n27  27        60  '2020/12/27'     92       118     2410\n28  28        60  '2020/12/28'    103       132      NaN\n29  29        60  '2020/12/29'    100       132     2800\n30  30        60  '2020/12/30'    102       129     3803\n31  31        60  '2020/12/31'     92       115     2430",
            "text/html": "<div>\n<style scoped>\n    .dataframe tbody tr th:only-of-type {\n        vertical-align: middle;\n    }\n\n    .dataframe tbody tr th {\n        vertical-align: top;\n    }\n\n    .dataframe thead th {\n        text-align: right;\n    }\n</style>\n<table border=\"1\" class=\"dataframe\">\n  <thead>\n    <tr style=\"text-align: right;\">\n      <th></th>\n      <th>ID</th>\n      <th>Duration</th>\n      <th>Date</th>\n      <th>Pulse</th>\n      <th>Maxpulse</th>\n      <th>Calories</th>\n    </tr>\n  </thead>\n  <tbody>\n    <tr>\n      <th>20</th>\n      <td>20</td>\n      <td>45</td>\n      <td>'2020/12/20'</td>\n      <td>97</td>\n      <td>125</td>\n      <td>2430 2</td>\n    </tr>\n    <tr>\n      <th>21</th>\n      <td>1</td>\n      <td>60</td>\n      <td>'2020/12/21'</td>\n      <td>108</td>\n      <td>131</td>\n      <td>3642</td>\n    </tr>\n    <tr>\n      <th>22</th>\n      <td>22</td>\n      <td>45</td>\n      <td>NaN</td>\n      <td>100</td>\n      <td>119</td>\n      <td>2820</td>\n    </tr>\n    <tr>\n      <th>23</th>\n      <td>23</td>\n      <td>60</td>\n      <td>'2020/12/23'</td>\n      <td>130</td>\n      <td>101</td>\n      <td>3000</td>\n    </tr>\n    <tr>\n      <th>24</th>\n      <td>24</td>\n      <td>45</td>\n      <td>'2020/12/24'</td>\n      <td>105</td>\n      <td>132</td>\n      <td>2460</td>\n    </tr>\n    <tr>\n      <th>25</th>\n      <td>25</td>\n      <td>60</td>\n      <td>'2020/12/25'</td>\n      <td>102</td>\n      <td>126</td>\n      <td>3345</td>\n    </tr>\n    <tr>\n      <th>26</th>\n      <td>26</td>\n      <td>60</td>\n      <td>20201226</td>\n      <td>100</td>\n      <td>120</td>\n      <td>2500</td>\n    </tr>\n    <tr>\n      <th>27</th>\n      <td>27</td>\n      <td>60</td>\n      <td>'2020/12/27'</td>\n      <td>92</td>\n      <td>118</td>\n      <td>2410</td>\n    </tr>\n    <tr>\n      <th>28</th>\n      <td>28</td>\n      <td>60</td>\n      <td>'2020/12/28'</td>\n      <td>103</td>\n      <td>132</td>\n      <td>NaN</td>\n    </tr>\n    <tr>\n      <th>29</th>\n      <td>29</td>\n      <td>60</td>\n      <td>'2020/12/29'</td>\n      <td>100</td>\n      <td>132</td>\n      <td>2800</td>\n    </tr>\n    <tr>\n      <th>30</th>\n      <td>30</td>\n      <td>60</td>\n      <td>'2020/12/30'</td>\n      <td>102</td>\n      <td>129</td>\n      <td>3803</td>\n    </tr>\n    <tr>\n      <th>31</th>\n      <td>31</td>\n      <td>60</td>\n      <td>'2020/12/31'</td>\n      <td>92</td>\n      <td>115</td>\n      <td>2430</td>\n    </tr>\n  </tbody>\n</table>\n</div>"
          },
          "metadata": {}
        }
      ],
      "execution_count": 10
    },
    {
      "id": "ae843a2d-9018-420b-9503-ad9d4642e40b",
      "cell_type": "code",
      "source": "arq",
      "metadata": {
        "trusted": true
      },
      "outputs": [
        {
          "execution_count": 7,
          "output_type": "execute_result",
          "data": {
            "text/plain": "    ID  Duration          Date  Pulse  Maxpulse Calories\n0    0        60  '2020/12/01'    110       130     4091\n1    1        60  '2020/12/02'    117       145     4790\n2    2        60  '2020/12/03'    103       135     3400\n3    3        45  '2020/12/04'    109       175     2824\n4    4        45  '2020/12/05'    117       148     4060\n5    5        60  '2020/12/06'    102       127     3000\n6    6        60  '2020/12/07'    110       136     3740\n7    7       450  '2020/12/08'    104       134     2533\n8    8        30  '2020/12/09'    109       133     1951\n9    9        60  '2020/12/10'     98       124     2690\n10  10        60  '2020/12/11'    103       147     3293\n11  11        60  '2020/12/12'    100       120     2507\n12  12        60  '2020/12/12'    100       120     2507\n13  13        60  '2020/12/13'    106       128     3453\n14  14        60  '2020/12/14'    104       132     3793\n15  15        60  '2020/12/15'     98       123     2750\n16  16        60  '2020/12/16'     98       120     2152\n17  17        60  '2020/12/17'    100       120     3000\n18  18        45  '2020/12/18'     90       112      NaN\n19  19        60  '2020/12/19'    103       123     3230\n20  20        45  '2020/12/20'     97       125   2430 2\n21   1        60  '2020/12/21'    108       131     3642\n22  22        45           NaN    100       119     2820\n23  23        60  '2020/12/23'    130       101     3000\n24  24        45  '2020/12/24'    105       132     2460\n25  25        60  '2020/12/25'    102       126     3345\n26  26        60      20201226    100       120     2500\n27  27        60  '2020/12/27'     92       118     2410\n28  28        60  '2020/12/28'    103       132      NaN\n29  29        60  '2020/12/29'    100       132     2800\n30  30        60  '2020/12/30'    102       129     3803\n31  31        60  '2020/12/31'     92       115     2430",
            "text/html": "<div>\n<style scoped>\n    .dataframe tbody tr th:only-of-type {\n        vertical-align: middle;\n    }\n\n    .dataframe tbody tr th {\n        vertical-align: top;\n    }\n\n    .dataframe thead th {\n        text-align: right;\n    }\n</style>\n<table border=\"1\" class=\"dataframe\">\n  <thead>\n    <tr style=\"text-align: right;\">\n      <th></th>\n      <th>ID</th>\n      <th>Duration</th>\n      <th>Date</th>\n      <th>Pulse</th>\n      <th>Maxpulse</th>\n      <th>Calories</th>\n    </tr>\n  </thead>\n  <tbody>\n    <tr>\n      <th>0</th>\n      <td>0</td>\n      <td>60</td>\n      <td>'2020/12/01'</td>\n      <td>110</td>\n      <td>130</td>\n      <td>4091</td>\n    </tr>\n    <tr>\n      <th>1</th>\n      <td>1</td>\n      <td>60</td>\n      <td>'2020/12/02'</td>\n      <td>117</td>\n      <td>145</td>\n      <td>4790</td>\n    </tr>\n    <tr>\n      <th>2</th>\n      <td>2</td>\n      <td>60</td>\n      <td>'2020/12/03'</td>\n      <td>103</td>\n      <td>135</td>\n      <td>3400</td>\n    </tr>\n    <tr>\n      <th>3</th>\n      <td>3</td>\n      <td>45</td>\n      <td>'2020/12/04'</td>\n      <td>109</td>\n      <td>175</td>\n      <td>2824</td>\n    </tr>\n    <tr>\n      <th>4</th>\n      <td>4</td>\n      <td>45</td>\n      <td>'2020/12/05'</td>\n      <td>117</td>\n      <td>148</td>\n      <td>4060</td>\n    </tr>\n    <tr>\n      <th>5</th>\n      <td>5</td>\n      <td>60</td>\n      <td>'2020/12/06'</td>\n      <td>102</td>\n      <td>127</td>\n      <td>3000</td>\n    </tr>\n    <tr>\n      <th>6</th>\n      <td>6</td>\n      <td>60</td>\n      <td>'2020/12/07'</td>\n      <td>110</td>\n      <td>136</td>\n      <td>3740</td>\n    </tr>\n    <tr>\n      <th>7</th>\n      <td>7</td>\n      <td>450</td>\n      <td>'2020/12/08'</td>\n      <td>104</td>\n      <td>134</td>\n      <td>2533</td>\n    </tr>\n    <tr>\n      <th>8</th>\n      <td>8</td>\n      <td>30</td>\n      <td>'2020/12/09'</td>\n      <td>109</td>\n      <td>133</td>\n      <td>1951</td>\n    </tr>\n    <tr>\n      <th>9</th>\n      <td>9</td>\n      <td>60</td>\n      <td>'2020/12/10'</td>\n      <td>98</td>\n      <td>124</td>\n      <td>2690</td>\n    </tr>\n    <tr>\n      <th>10</th>\n      <td>10</td>\n      <td>60</td>\n      <td>'2020/12/11'</td>\n      <td>103</td>\n      <td>147</td>\n      <td>3293</td>\n    </tr>\n    <tr>\n      <th>11</th>\n      <td>11</td>\n      <td>60</td>\n      <td>'2020/12/12'</td>\n      <td>100</td>\n      <td>120</td>\n      <td>2507</td>\n    </tr>\n    <tr>\n      <th>12</th>\n      <td>12</td>\n      <td>60</td>\n      <td>'2020/12/12'</td>\n      <td>100</td>\n      <td>120</td>\n      <td>2507</td>\n    </tr>\n    <tr>\n      <th>13</th>\n      <td>13</td>\n      <td>60</td>\n      <td>'2020/12/13'</td>\n      <td>106</td>\n      <td>128</td>\n      <td>3453</td>\n    </tr>\n    <tr>\n      <th>14</th>\n      <td>14</td>\n      <td>60</td>\n      <td>'2020/12/14'</td>\n      <td>104</td>\n      <td>132</td>\n      <td>3793</td>\n    </tr>\n    <tr>\n      <th>15</th>\n      <td>15</td>\n      <td>60</td>\n      <td>'2020/12/15'</td>\n      <td>98</td>\n      <td>123</td>\n      <td>2750</td>\n    </tr>\n    <tr>\n      <th>16</th>\n      <td>16</td>\n      <td>60</td>\n      <td>'2020/12/16'</td>\n      <td>98</td>\n      <td>120</td>\n      <td>2152</td>\n    </tr>\n    <tr>\n      <th>17</th>\n      <td>17</td>\n      <td>60</td>\n      <td>'2020/12/17'</td>\n      <td>100</td>\n      <td>120</td>\n      <td>3000</td>\n    </tr>\n    <tr>\n      <th>18</th>\n      <td>18</td>\n      <td>45</td>\n      <td>'2020/12/18'</td>\n      <td>90</td>\n      <td>112</td>\n      <td>NaN</td>\n    </tr>\n    <tr>\n      <th>19</th>\n      <td>19</td>\n      <td>60</td>\n      <td>'2020/12/19'</td>\n      <td>103</td>\n      <td>123</td>\n      <td>3230</td>\n    </tr>\n    <tr>\n      <th>20</th>\n      <td>20</td>\n      <td>45</td>\n      <td>'2020/12/20'</td>\n      <td>97</td>\n      <td>125</td>\n      <td>2430 2</td>\n    </tr>\n    <tr>\n      <th>21</th>\n      <td>1</td>\n      <td>60</td>\n      <td>'2020/12/21'</td>\n      <td>108</td>\n      <td>131</td>\n      <td>3642</td>\n    </tr>\n    <tr>\n      <th>22</th>\n      <td>22</td>\n      <td>45</td>\n      <td>NaN</td>\n      <td>100</td>\n      <td>119</td>\n      <td>2820</td>\n    </tr>\n    <tr>\n      <th>23</th>\n      <td>23</td>\n      <td>60</td>\n      <td>'2020/12/23'</td>\n      <td>130</td>\n      <td>101</td>\n      <td>3000</td>\n    </tr>\n    <tr>\n      <th>24</th>\n      <td>24</td>\n      <td>45</td>\n      <td>'2020/12/24'</td>\n      <td>105</td>\n      <td>132</td>\n      <td>2460</td>\n    </tr>\n    <tr>\n      <th>25</th>\n      <td>25</td>\n      <td>60</td>\n      <td>'2020/12/25'</td>\n      <td>102</td>\n      <td>126</td>\n      <td>3345</td>\n    </tr>\n    <tr>\n      <th>26</th>\n      <td>26</td>\n      <td>60</td>\n      <td>20201226</td>\n      <td>100</td>\n      <td>120</td>\n      <td>2500</td>\n    </tr>\n    <tr>\n      <th>27</th>\n      <td>27</td>\n      <td>60</td>\n      <td>'2020/12/27'</td>\n      <td>92</td>\n      <td>118</td>\n      <td>2410</td>\n    </tr>\n    <tr>\n      <th>28</th>\n      <td>28</td>\n      <td>60</td>\n      <td>'2020/12/28'</td>\n      <td>103</td>\n      <td>132</td>\n      <td>NaN</td>\n    </tr>\n    <tr>\n      <th>29</th>\n      <td>29</td>\n      <td>60</td>\n      <td>'2020/12/29'</td>\n      <td>100</td>\n      <td>132</td>\n      <td>2800</td>\n    </tr>\n    <tr>\n      <th>30</th>\n      <td>30</td>\n      <td>60</td>\n      <td>'2020/12/30'</td>\n      <td>102</td>\n      <td>129</td>\n      <td>3803</td>\n    </tr>\n    <tr>\n      <th>31</th>\n      <td>31</td>\n      <td>60</td>\n      <td>'2020/12/31'</td>\n      <td>92</td>\n      <td>115</td>\n      <td>2430</td>\n    </tr>\n  </tbody>\n</table>\n</div>"
          },
          "metadata": {}
        }
      ],
      "execution_count": 7
    },
    {
      "id": "5f11f81d-8d68-43f3-b35d-0376aae9bc51",
      "cell_type": "raw",
      "source": "",
      "metadata": {}
    },
    {
      "id": "cafdfbf9-c705-4bf3-b198-d2ae8a1ebbba",
      "cell_type": "code",
      "source": "len(arq)-10",
      "metadata": {
        "trusted": true
      },
      "outputs": [
        {
          "execution_count": 14,
          "output_type": "execute_result",
          "data": {
            "text/plain": "22"
          },
          "metadata": {}
        }
      ],
      "execution_count": 14
    },
    {
      "id": "0393f313-d7a1-4ac9-bb28-df078eeeda4e",
      "cell_type": "code",
      "source": "arq.index",
      "metadata": {
        "trusted": true
      },
      "outputs": [
        {
          "execution_count": 9,
          "output_type": "execute_result",
          "data": {
            "text/plain": "RangeIndex(start=0, stop=32, step=1)"
          },
          "metadata": {}
        }
      ],
      "execution_count": 9
    },
    {
      "id": "553f9a8b-6200-410b-9822-2579b52ca17c",
      "cell_type": "code",
      "source": "len(arq)",
      "metadata": {
        "trusted": true
      },
      "outputs": [
        {
          "execution_count": 12,
          "output_type": "execute_result",
          "data": {
            "text/plain": "32"
          },
          "metadata": {}
        }
      ],
      "execution_count": 12
    },
    {
      "id": "15744a6e-6591-43a5-9d3b-d60ae55cc641",
      "cell_type": "code",
      "source": "arqCopy = arq.copy()",
      "metadata": {
        "trusted": true
      },
      "outputs": [],
      "execution_count": 18
    },
    {
      "id": "f0287959-b97e-47bc-9757-5c31b2b86e41",
      "cell_type": "code",
      "source": "arqCopy",
      "metadata": {
        "trusted": true
      },
      "outputs": [
        {
          "execution_count": 19,
          "output_type": "execute_result",
          "data": {
            "text/plain": "    ID  Duration          Date  Pulse  Maxpulse Calories\n0    0        60  '2020/12/01'    110       130     4091\n1    1        60  '2020/12/02'    117       145     4790\n2    2        60  '2020/12/03'    103       135     3400\n3    3        45  '2020/12/04'    109       175     2824\n4    4        45  '2020/12/05'    117       148     4060\n5    5        60  '2020/12/06'    102       127     3000\n6    6        60  '2020/12/07'    110       136     3740\n7    7       450  '2020/12/08'    104       134     2533\n8    8        30  '2020/12/09'    109       133     1951\n9    9        60  '2020/12/10'     98       124     2690\n10  10        60  '2020/12/11'    103       147     3293\n11  11        60  '2020/12/12'    100       120     2507\n12  12        60  '2020/12/12'    100       120     2507\n13  13        60  '2020/12/13'    106       128     3453\n14  14        60  '2020/12/14'    104       132     3793\n15  15        60  '2020/12/15'     98       123     2750\n16  16        60  '2020/12/16'     98       120     2152\n17  17        60  '2020/12/17'    100       120     3000\n18  18        45  '2020/12/18'     90       112      NaN\n19  19        60  '2020/12/19'    103       123     3230\n20  20        45  '2020/12/20'     97       125   2430 2\n21   1        60  '2020/12/21'    108       131     3642\n22  22        45           NaN    100       119     2820\n23  23        60  '2020/12/23'    130       101     3000\n24  24        45  '2020/12/24'    105       132     2460\n25  25        60  '2020/12/25'    102       126     3345\n26  26        60      20201226    100       120     2500\n27  27        60  '2020/12/27'     92       118     2410\n28  28        60  '2020/12/28'    103       132      NaN\n29  29        60  '2020/12/29'    100       132     2800\n30  30        60  '2020/12/30'    102       129     3803\n31  31        60  '2020/12/31'     92       115     2430",
            "text/html": "<div>\n<style scoped>\n    .dataframe tbody tr th:only-of-type {\n        vertical-align: middle;\n    }\n\n    .dataframe tbody tr th {\n        vertical-align: top;\n    }\n\n    .dataframe thead th {\n        text-align: right;\n    }\n</style>\n<table border=\"1\" class=\"dataframe\">\n  <thead>\n    <tr style=\"text-align: right;\">\n      <th></th>\n      <th>ID</th>\n      <th>Duration</th>\n      <th>Date</th>\n      <th>Pulse</th>\n      <th>Maxpulse</th>\n      <th>Calories</th>\n    </tr>\n  </thead>\n  <tbody>\n    <tr>\n      <th>0</th>\n      <td>0</td>\n      <td>60</td>\n      <td>'2020/12/01'</td>\n      <td>110</td>\n      <td>130</td>\n      <td>4091</td>\n    </tr>\n    <tr>\n      <th>1</th>\n      <td>1</td>\n      <td>60</td>\n      <td>'2020/12/02'</td>\n      <td>117</td>\n      <td>145</td>\n      <td>4790</td>\n    </tr>\n    <tr>\n      <th>2</th>\n      <td>2</td>\n      <td>60</td>\n      <td>'2020/12/03'</td>\n      <td>103</td>\n      <td>135</td>\n      <td>3400</td>\n    </tr>\n    <tr>\n      <th>3</th>\n      <td>3</td>\n      <td>45</td>\n      <td>'2020/12/04'</td>\n      <td>109</td>\n      <td>175</td>\n      <td>2824</td>\n    </tr>\n    <tr>\n      <th>4</th>\n      <td>4</td>\n      <td>45</td>\n      <td>'2020/12/05'</td>\n      <td>117</td>\n      <td>148</td>\n      <td>4060</td>\n    </tr>\n    <tr>\n      <th>5</th>\n      <td>5</td>\n      <td>60</td>\n      <td>'2020/12/06'</td>\n      <td>102</td>\n      <td>127</td>\n      <td>3000</td>\n    </tr>\n    <tr>\n      <th>6</th>\n      <td>6</td>\n      <td>60</td>\n      <td>'2020/12/07'</td>\n      <td>110</td>\n      <td>136</td>\n      <td>3740</td>\n    </tr>\n    <tr>\n      <th>7</th>\n      <td>7</td>\n      <td>450</td>\n      <td>'2020/12/08'</td>\n      <td>104</td>\n      <td>134</td>\n      <td>2533</td>\n    </tr>\n    <tr>\n      <th>8</th>\n      <td>8</td>\n      <td>30</td>\n      <td>'2020/12/09'</td>\n      <td>109</td>\n      <td>133</td>\n      <td>1951</td>\n    </tr>\n    <tr>\n      <th>9</th>\n      <td>9</td>\n      <td>60</td>\n      <td>'2020/12/10'</td>\n      <td>98</td>\n      <td>124</td>\n      <td>2690</td>\n    </tr>\n    <tr>\n      <th>10</th>\n      <td>10</td>\n      <td>60</td>\n      <td>'2020/12/11'</td>\n      <td>103</td>\n      <td>147</td>\n      <td>3293</td>\n    </tr>\n    <tr>\n      <th>11</th>\n      <td>11</td>\n      <td>60</td>\n      <td>'2020/12/12'</td>\n      <td>100</td>\n      <td>120</td>\n      <td>2507</td>\n    </tr>\n    <tr>\n      <th>12</th>\n      <td>12</td>\n      <td>60</td>\n      <td>'2020/12/12'</td>\n      <td>100</td>\n      <td>120</td>\n      <td>2507</td>\n    </tr>\n    <tr>\n      <th>13</th>\n      <td>13</td>\n      <td>60</td>\n      <td>'2020/12/13'</td>\n      <td>106</td>\n      <td>128</td>\n      <td>3453</td>\n    </tr>\n    <tr>\n      <th>14</th>\n      <td>14</td>\n      <td>60</td>\n      <td>'2020/12/14'</td>\n      <td>104</td>\n      <td>132</td>\n      <td>3793</td>\n    </tr>\n    <tr>\n      <th>15</th>\n      <td>15</td>\n      <td>60</td>\n      <td>'2020/12/15'</td>\n      <td>98</td>\n      <td>123</td>\n      <td>2750</td>\n    </tr>\n    <tr>\n      <th>16</th>\n      <td>16</td>\n      <td>60</td>\n      <td>'2020/12/16'</td>\n      <td>98</td>\n      <td>120</td>\n      <td>2152</td>\n    </tr>\n    <tr>\n      <th>17</th>\n      <td>17</td>\n      <td>60</td>\n      <td>'2020/12/17'</td>\n      <td>100</td>\n      <td>120</td>\n      <td>3000</td>\n    </tr>\n    <tr>\n      <th>18</th>\n      <td>18</td>\n      <td>45</td>\n      <td>'2020/12/18'</td>\n      <td>90</td>\n      <td>112</td>\n      <td>NaN</td>\n    </tr>\n    <tr>\n      <th>19</th>\n      <td>19</td>\n      <td>60</td>\n      <td>'2020/12/19'</td>\n      <td>103</td>\n      <td>123</td>\n      <td>3230</td>\n    </tr>\n    <tr>\n      <th>20</th>\n      <td>20</td>\n      <td>45</td>\n      <td>'2020/12/20'</td>\n      <td>97</td>\n      <td>125</td>\n      <td>2430 2</td>\n    </tr>\n    <tr>\n      <th>21</th>\n      <td>1</td>\n      <td>60</td>\n      <td>'2020/12/21'</td>\n      <td>108</td>\n      <td>131</td>\n      <td>3642</td>\n    </tr>\n    <tr>\n      <th>22</th>\n      <td>22</td>\n      <td>45</td>\n      <td>NaN</td>\n      <td>100</td>\n      <td>119</td>\n      <td>2820</td>\n    </tr>\n    <tr>\n      <th>23</th>\n      <td>23</td>\n      <td>60</td>\n      <td>'2020/12/23'</td>\n      <td>130</td>\n      <td>101</td>\n      <td>3000</td>\n    </tr>\n    <tr>\n      <th>24</th>\n      <td>24</td>\n      <td>45</td>\n      <td>'2020/12/24'</td>\n      <td>105</td>\n      <td>132</td>\n      <td>2460</td>\n    </tr>\n    <tr>\n      <th>25</th>\n      <td>25</td>\n      <td>60</td>\n      <td>'2020/12/25'</td>\n      <td>102</td>\n      <td>126</td>\n      <td>3345</td>\n    </tr>\n    <tr>\n      <th>26</th>\n      <td>26</td>\n      <td>60</td>\n      <td>20201226</td>\n      <td>100</td>\n      <td>120</td>\n      <td>2500</td>\n    </tr>\n    <tr>\n      <th>27</th>\n      <td>27</td>\n      <td>60</td>\n      <td>'2020/12/27'</td>\n      <td>92</td>\n      <td>118</td>\n      <td>2410</td>\n    </tr>\n    <tr>\n      <th>28</th>\n      <td>28</td>\n      <td>60</td>\n      <td>'2020/12/28'</td>\n      <td>103</td>\n      <td>132</td>\n      <td>NaN</td>\n    </tr>\n    <tr>\n      <th>29</th>\n      <td>29</td>\n      <td>60</td>\n      <td>'2020/12/29'</td>\n      <td>100</td>\n      <td>132</td>\n      <td>2800</td>\n    </tr>\n    <tr>\n      <th>30</th>\n      <td>30</td>\n      <td>60</td>\n      <td>'2020/12/30'</td>\n      <td>102</td>\n      <td>129</td>\n      <td>3803</td>\n    </tr>\n    <tr>\n      <th>31</th>\n      <td>31</td>\n      <td>60</td>\n      <td>'2020/12/31'</td>\n      <td>92</td>\n      <td>115</td>\n      <td>2430</td>\n    </tr>\n  </tbody>\n</table>\n</div>"
          },
          "metadata": {}
        }
      ],
      "execution_count": 19
    },
    {
      "id": "a4039fea-80f0-4b45-9fe6-90515e4dce62",
      "cell_type": "code",
      "source": "arqCopy[arqCopy.isna().any(axis=1)]",
      "metadata": {
        "trusted": true
      },
      "outputs": [
        {
          "execution_count": 22,
          "output_type": "execute_result",
          "data": {
            "text/plain": "    ID  Duration          Date  Pulse  Maxpulse Calories\n18  18        45  '2020/12/18'     90       112      NaN\n22  22        45           NaN    100       119     2820\n28  28        60  '2020/12/28'    103       132      NaN",
            "text/html": "<div>\n<style scoped>\n    .dataframe tbody tr th:only-of-type {\n        vertical-align: middle;\n    }\n\n    .dataframe tbody tr th {\n        vertical-align: top;\n    }\n\n    .dataframe thead th {\n        text-align: right;\n    }\n</style>\n<table border=\"1\" class=\"dataframe\">\n  <thead>\n    <tr style=\"text-align: right;\">\n      <th></th>\n      <th>ID</th>\n      <th>Duration</th>\n      <th>Date</th>\n      <th>Pulse</th>\n      <th>Maxpulse</th>\n      <th>Calories</th>\n    </tr>\n  </thead>\n  <tbody>\n    <tr>\n      <th>18</th>\n      <td>18</td>\n      <td>45</td>\n      <td>'2020/12/18'</td>\n      <td>90</td>\n      <td>112</td>\n      <td>NaN</td>\n    </tr>\n    <tr>\n      <th>22</th>\n      <td>22</td>\n      <td>45</td>\n      <td>NaN</td>\n      <td>100</td>\n      <td>119</td>\n      <td>2820</td>\n    </tr>\n    <tr>\n      <th>28</th>\n      <td>28</td>\n      <td>60</td>\n      <td>'2020/12/28'</td>\n      <td>103</td>\n      <td>132</td>\n      <td>NaN</td>\n    </tr>\n  </tbody>\n</table>\n</div>"
          },
          "metadata": {}
        }
      ],
      "execution_count": 22
    },
    {
      "id": "cedba380-c64e-4da6-8ce2-2761493c1cc0",
      "cell_type": "code",
      "source": "teste = arqCopy['Calories'].fillna(0)",
      "metadata": {
        "trusted": true
      },
      "outputs": [],
      "execution_count": 25
    },
    {
      "id": "c5b0b749-5514-48a7-83ea-a9a7ce17aa44",
      "cell_type": "code",
      "source": "teste",
      "metadata": {
        "trusted": true
      },
      "outputs": [
        {
          "execution_count": 26,
          "output_type": "execute_result",
          "data": {
            "text/plain": "0       4091\n1       4790\n2       3400\n3       2824\n4       4060\n5       3000\n6       3740\n7       2533\n8       1951\n9       2690\n10      3293\n11      2507\n12      2507\n13      3453\n14      3793\n15      2750\n16      2152\n17      3000\n18         0\n19      3230\n20    2430 2\n21      3642\n22      2820\n23      3000\n24      2460\n25      3345\n26      2500\n27      2410\n28         0\n29      2800\n30      3803\n31      2430\nName: Calories, dtype: object"
          },
          "metadata": {}
        }
      ],
      "execution_count": 26
    },
    {
      "id": "6ee44a87-f755-4aea-93ea-836e500a05f1",
      "cell_type": "code",
      "source": "arqCopy\n",
      "metadata": {
        "trusted": true
      },
      "outputs": [
        {
          "execution_count": 27,
          "output_type": "execute_result",
          "data": {
            "text/plain": "    ID  Duration          Date  Pulse  Maxpulse Calories\n0    0        60  '2020/12/01'    110       130     4091\n1    1        60  '2020/12/02'    117       145     4790\n2    2        60  '2020/12/03'    103       135     3400\n3    3        45  '2020/12/04'    109       175     2824\n4    4        45  '2020/12/05'    117       148     4060\n5    5        60  '2020/12/06'    102       127     3000\n6    6        60  '2020/12/07'    110       136     3740\n7    7       450  '2020/12/08'    104       134     2533\n8    8        30  '2020/12/09'    109       133     1951\n9    9        60  '2020/12/10'     98       124     2690\n10  10        60  '2020/12/11'    103       147     3293\n11  11        60  '2020/12/12'    100       120     2507\n12  12        60  '2020/12/12'    100       120     2507\n13  13        60  '2020/12/13'    106       128     3453\n14  14        60  '2020/12/14'    104       132     3793\n15  15        60  '2020/12/15'     98       123     2750\n16  16        60  '2020/12/16'     98       120     2152\n17  17        60  '2020/12/17'    100       120     3000\n18  18        45  '2020/12/18'     90       112      NaN\n19  19        60  '2020/12/19'    103       123     3230\n20  20        45  '2020/12/20'     97       125   2430 2\n21   1        60  '2020/12/21'    108       131     3642\n22  22        45           NaN    100       119     2820\n23  23        60  '2020/12/23'    130       101     3000\n24  24        45  '2020/12/24'    105       132     2460\n25  25        60  '2020/12/25'    102       126     3345\n26  26        60      20201226    100       120     2500\n27  27        60  '2020/12/27'     92       118     2410\n28  28        60  '2020/12/28'    103       132      NaN\n29  29        60  '2020/12/29'    100       132     2800\n30  30        60  '2020/12/30'    102       129     3803\n31  31        60  '2020/12/31'     92       115     2430",
            "text/html": "<div>\n<style scoped>\n    .dataframe tbody tr th:only-of-type {\n        vertical-align: middle;\n    }\n\n    .dataframe tbody tr th {\n        vertical-align: top;\n    }\n\n    .dataframe thead th {\n        text-align: right;\n    }\n</style>\n<table border=\"1\" class=\"dataframe\">\n  <thead>\n    <tr style=\"text-align: right;\">\n      <th></th>\n      <th>ID</th>\n      <th>Duration</th>\n      <th>Date</th>\n      <th>Pulse</th>\n      <th>Maxpulse</th>\n      <th>Calories</th>\n    </tr>\n  </thead>\n  <tbody>\n    <tr>\n      <th>0</th>\n      <td>0</td>\n      <td>60</td>\n      <td>'2020/12/01'</td>\n      <td>110</td>\n      <td>130</td>\n      <td>4091</td>\n    </tr>\n    <tr>\n      <th>1</th>\n      <td>1</td>\n      <td>60</td>\n      <td>'2020/12/02'</td>\n      <td>117</td>\n      <td>145</td>\n      <td>4790</td>\n    </tr>\n    <tr>\n      <th>2</th>\n      <td>2</td>\n      <td>60</td>\n      <td>'2020/12/03'</td>\n      <td>103</td>\n      <td>135</td>\n      <td>3400</td>\n    </tr>\n    <tr>\n      <th>3</th>\n      <td>3</td>\n      <td>45</td>\n      <td>'2020/12/04'</td>\n      <td>109</td>\n      <td>175</td>\n      <td>2824</td>\n    </tr>\n    <tr>\n      <th>4</th>\n      <td>4</td>\n      <td>45</td>\n      <td>'2020/12/05'</td>\n      <td>117</td>\n      <td>148</td>\n      <td>4060</td>\n    </tr>\n    <tr>\n      <th>5</th>\n      <td>5</td>\n      <td>60</td>\n      <td>'2020/12/06'</td>\n      <td>102</td>\n      <td>127</td>\n      <td>3000</td>\n    </tr>\n    <tr>\n      <th>6</th>\n      <td>6</td>\n      <td>60</td>\n      <td>'2020/12/07'</td>\n      <td>110</td>\n      <td>136</td>\n      <td>3740</td>\n    </tr>\n    <tr>\n      <th>7</th>\n      <td>7</td>\n      <td>450</td>\n      <td>'2020/12/08'</td>\n      <td>104</td>\n      <td>134</td>\n      <td>2533</td>\n    </tr>\n    <tr>\n      <th>8</th>\n      <td>8</td>\n      <td>30</td>\n      <td>'2020/12/09'</td>\n      <td>109</td>\n      <td>133</td>\n      <td>1951</td>\n    </tr>\n    <tr>\n      <th>9</th>\n      <td>9</td>\n      <td>60</td>\n      <td>'2020/12/10'</td>\n      <td>98</td>\n      <td>124</td>\n      <td>2690</td>\n    </tr>\n    <tr>\n      <th>10</th>\n      <td>10</td>\n      <td>60</td>\n      <td>'2020/12/11'</td>\n      <td>103</td>\n      <td>147</td>\n      <td>3293</td>\n    </tr>\n    <tr>\n      <th>11</th>\n      <td>11</td>\n      <td>60</td>\n      <td>'2020/12/12'</td>\n      <td>100</td>\n      <td>120</td>\n      <td>2507</td>\n    </tr>\n    <tr>\n      <th>12</th>\n      <td>12</td>\n      <td>60</td>\n      <td>'2020/12/12'</td>\n      <td>100</td>\n      <td>120</td>\n      <td>2507</td>\n    </tr>\n    <tr>\n      <th>13</th>\n      <td>13</td>\n      <td>60</td>\n      <td>'2020/12/13'</td>\n      <td>106</td>\n      <td>128</td>\n      <td>3453</td>\n    </tr>\n    <tr>\n      <th>14</th>\n      <td>14</td>\n      <td>60</td>\n      <td>'2020/12/14'</td>\n      <td>104</td>\n      <td>132</td>\n      <td>3793</td>\n    </tr>\n    <tr>\n      <th>15</th>\n      <td>15</td>\n      <td>60</td>\n      <td>'2020/12/15'</td>\n      <td>98</td>\n      <td>123</td>\n      <td>2750</td>\n    </tr>\n    <tr>\n      <th>16</th>\n      <td>16</td>\n      <td>60</td>\n      <td>'2020/12/16'</td>\n      <td>98</td>\n      <td>120</td>\n      <td>2152</td>\n    </tr>\n    <tr>\n      <th>17</th>\n      <td>17</td>\n      <td>60</td>\n      <td>'2020/12/17'</td>\n      <td>100</td>\n      <td>120</td>\n      <td>3000</td>\n    </tr>\n    <tr>\n      <th>18</th>\n      <td>18</td>\n      <td>45</td>\n      <td>'2020/12/18'</td>\n      <td>90</td>\n      <td>112</td>\n      <td>NaN</td>\n    </tr>\n    <tr>\n      <th>19</th>\n      <td>19</td>\n      <td>60</td>\n      <td>'2020/12/19'</td>\n      <td>103</td>\n      <td>123</td>\n      <td>3230</td>\n    </tr>\n    <tr>\n      <th>20</th>\n      <td>20</td>\n      <td>45</td>\n      <td>'2020/12/20'</td>\n      <td>97</td>\n      <td>125</td>\n      <td>2430 2</td>\n    </tr>\n    <tr>\n      <th>21</th>\n      <td>1</td>\n      <td>60</td>\n      <td>'2020/12/21'</td>\n      <td>108</td>\n      <td>131</td>\n      <td>3642</td>\n    </tr>\n    <tr>\n      <th>22</th>\n      <td>22</td>\n      <td>45</td>\n      <td>NaN</td>\n      <td>100</td>\n      <td>119</td>\n      <td>2820</td>\n    </tr>\n    <tr>\n      <th>23</th>\n      <td>23</td>\n      <td>60</td>\n      <td>'2020/12/23'</td>\n      <td>130</td>\n      <td>101</td>\n      <td>3000</td>\n    </tr>\n    <tr>\n      <th>24</th>\n      <td>24</td>\n      <td>45</td>\n      <td>'2020/12/24'</td>\n      <td>105</td>\n      <td>132</td>\n      <td>2460</td>\n    </tr>\n    <tr>\n      <th>25</th>\n      <td>25</td>\n      <td>60</td>\n      <td>'2020/12/25'</td>\n      <td>102</td>\n      <td>126</td>\n      <td>3345</td>\n    </tr>\n    <tr>\n      <th>26</th>\n      <td>26</td>\n      <td>60</td>\n      <td>20201226</td>\n      <td>100</td>\n      <td>120</td>\n      <td>2500</td>\n    </tr>\n    <tr>\n      <th>27</th>\n      <td>27</td>\n      <td>60</td>\n      <td>'2020/12/27'</td>\n      <td>92</td>\n      <td>118</td>\n      <td>2410</td>\n    </tr>\n    <tr>\n      <th>28</th>\n      <td>28</td>\n      <td>60</td>\n      <td>'2020/12/28'</td>\n      <td>103</td>\n      <td>132</td>\n      <td>NaN</td>\n    </tr>\n    <tr>\n      <th>29</th>\n      <td>29</td>\n      <td>60</td>\n      <td>'2020/12/29'</td>\n      <td>100</td>\n      <td>132</td>\n      <td>2800</td>\n    </tr>\n    <tr>\n      <th>30</th>\n      <td>30</td>\n      <td>60</td>\n      <td>'2020/12/30'</td>\n      <td>102</td>\n      <td>129</td>\n      <td>3803</td>\n    </tr>\n    <tr>\n      <th>31</th>\n      <td>31</td>\n      <td>60</td>\n      <td>'2020/12/31'</td>\n      <td>92</td>\n      <td>115</td>\n      <td>2430</td>\n    </tr>\n  </tbody>\n</table>\n</div>"
          },
          "metadata": {}
        }
      ],
      "execution_count": 27
    },
    {
      "id": "4953649d-1c5d-435a-b037-4744e6e7abae",
      "cell_type": "code",
      "source": "arqCopy['Calories'].fillna(0)",
      "metadata": {
        "trusted": true
      },
      "outputs": [
        {
          "execution_count": 28,
          "output_type": "execute_result",
          "data": {
            "text/plain": "0       4091\n1       4790\n2       3400\n3       2824\n4       4060\n5       3000\n6       3740\n7       2533\n8       1951\n9       2690\n10      3293\n11      2507\n12      2507\n13      3453\n14      3793\n15      2750\n16      2152\n17      3000\n18         0\n19      3230\n20    2430 2\n21      3642\n22      2820\n23      3000\n24      2460\n25      3345\n26      2500\n27      2410\n28         0\n29      2800\n30      3803\n31      2430\nName: Calories, dtype: object"
          },
          "metadata": {}
        }
      ],
      "execution_count": 28
    },
    {
      "id": "948a4f7a-28f4-4ad4-afc7-0073657abf3c",
      "cell_type": "code",
      "source": "arqCopy",
      "metadata": {
        "trusted": true
      },
      "outputs": [
        {
          "execution_count": 29,
          "output_type": "execute_result",
          "data": {
            "text/plain": "    ID  Duration          Date  Pulse  Maxpulse Calories\n0    0        60  '2020/12/01'    110       130     4091\n1    1        60  '2020/12/02'    117       145     4790\n2    2        60  '2020/12/03'    103       135     3400\n3    3        45  '2020/12/04'    109       175     2824\n4    4        45  '2020/12/05'    117       148     4060\n5    5        60  '2020/12/06'    102       127     3000\n6    6        60  '2020/12/07'    110       136     3740\n7    7       450  '2020/12/08'    104       134     2533\n8    8        30  '2020/12/09'    109       133     1951\n9    9        60  '2020/12/10'     98       124     2690\n10  10        60  '2020/12/11'    103       147     3293\n11  11        60  '2020/12/12'    100       120     2507\n12  12        60  '2020/12/12'    100       120     2507\n13  13        60  '2020/12/13'    106       128     3453\n14  14        60  '2020/12/14'    104       132     3793\n15  15        60  '2020/12/15'     98       123     2750\n16  16        60  '2020/12/16'     98       120     2152\n17  17        60  '2020/12/17'    100       120     3000\n18  18        45  '2020/12/18'     90       112      NaN\n19  19        60  '2020/12/19'    103       123     3230\n20  20        45  '2020/12/20'     97       125   2430 2\n21   1        60  '2020/12/21'    108       131     3642\n22  22        45           NaN    100       119     2820\n23  23        60  '2020/12/23'    130       101     3000\n24  24        45  '2020/12/24'    105       132     2460\n25  25        60  '2020/12/25'    102       126     3345\n26  26        60      20201226    100       120     2500\n27  27        60  '2020/12/27'     92       118     2410\n28  28        60  '2020/12/28'    103       132      NaN\n29  29        60  '2020/12/29'    100       132     2800\n30  30        60  '2020/12/30'    102       129     3803\n31  31        60  '2020/12/31'     92       115     2430",
            "text/html": "<div>\n<style scoped>\n    .dataframe tbody tr th:only-of-type {\n        vertical-align: middle;\n    }\n\n    .dataframe tbody tr th {\n        vertical-align: top;\n    }\n\n    .dataframe thead th {\n        text-align: right;\n    }\n</style>\n<table border=\"1\" class=\"dataframe\">\n  <thead>\n    <tr style=\"text-align: right;\">\n      <th></th>\n      <th>ID</th>\n      <th>Duration</th>\n      <th>Date</th>\n      <th>Pulse</th>\n      <th>Maxpulse</th>\n      <th>Calories</th>\n    </tr>\n  </thead>\n  <tbody>\n    <tr>\n      <th>0</th>\n      <td>0</td>\n      <td>60</td>\n      <td>'2020/12/01'</td>\n      <td>110</td>\n      <td>130</td>\n      <td>4091</td>\n    </tr>\n    <tr>\n      <th>1</th>\n      <td>1</td>\n      <td>60</td>\n      <td>'2020/12/02'</td>\n      <td>117</td>\n      <td>145</td>\n      <td>4790</td>\n    </tr>\n    <tr>\n      <th>2</th>\n      <td>2</td>\n      <td>60</td>\n      <td>'2020/12/03'</td>\n      <td>103</td>\n      <td>135</td>\n      <td>3400</td>\n    </tr>\n    <tr>\n      <th>3</th>\n      <td>3</td>\n      <td>45</td>\n      <td>'2020/12/04'</td>\n      <td>109</td>\n      <td>175</td>\n      <td>2824</td>\n    </tr>\n    <tr>\n      <th>4</th>\n      <td>4</td>\n      <td>45</td>\n      <td>'2020/12/05'</td>\n      <td>117</td>\n      <td>148</td>\n      <td>4060</td>\n    </tr>\n    <tr>\n      <th>5</th>\n      <td>5</td>\n      <td>60</td>\n      <td>'2020/12/06'</td>\n      <td>102</td>\n      <td>127</td>\n      <td>3000</td>\n    </tr>\n    <tr>\n      <th>6</th>\n      <td>6</td>\n      <td>60</td>\n      <td>'2020/12/07'</td>\n      <td>110</td>\n      <td>136</td>\n      <td>3740</td>\n    </tr>\n    <tr>\n      <th>7</th>\n      <td>7</td>\n      <td>450</td>\n      <td>'2020/12/08'</td>\n      <td>104</td>\n      <td>134</td>\n      <td>2533</td>\n    </tr>\n    <tr>\n      <th>8</th>\n      <td>8</td>\n      <td>30</td>\n      <td>'2020/12/09'</td>\n      <td>109</td>\n      <td>133</td>\n      <td>1951</td>\n    </tr>\n    <tr>\n      <th>9</th>\n      <td>9</td>\n      <td>60</td>\n      <td>'2020/12/10'</td>\n      <td>98</td>\n      <td>124</td>\n      <td>2690</td>\n    </tr>\n    <tr>\n      <th>10</th>\n      <td>10</td>\n      <td>60</td>\n      <td>'2020/12/11'</td>\n      <td>103</td>\n      <td>147</td>\n      <td>3293</td>\n    </tr>\n    <tr>\n      <th>11</th>\n      <td>11</td>\n      <td>60</td>\n      <td>'2020/12/12'</td>\n      <td>100</td>\n      <td>120</td>\n      <td>2507</td>\n    </tr>\n    <tr>\n      <th>12</th>\n      <td>12</td>\n      <td>60</td>\n      <td>'2020/12/12'</td>\n      <td>100</td>\n      <td>120</td>\n      <td>2507</td>\n    </tr>\n    <tr>\n      <th>13</th>\n      <td>13</td>\n      <td>60</td>\n      <td>'2020/12/13'</td>\n      <td>106</td>\n      <td>128</td>\n      <td>3453</td>\n    </tr>\n    <tr>\n      <th>14</th>\n      <td>14</td>\n      <td>60</td>\n      <td>'2020/12/14'</td>\n      <td>104</td>\n      <td>132</td>\n      <td>3793</td>\n    </tr>\n    <tr>\n      <th>15</th>\n      <td>15</td>\n      <td>60</td>\n      <td>'2020/12/15'</td>\n      <td>98</td>\n      <td>123</td>\n      <td>2750</td>\n    </tr>\n    <tr>\n      <th>16</th>\n      <td>16</td>\n      <td>60</td>\n      <td>'2020/12/16'</td>\n      <td>98</td>\n      <td>120</td>\n      <td>2152</td>\n    </tr>\n    <tr>\n      <th>17</th>\n      <td>17</td>\n      <td>60</td>\n      <td>'2020/12/17'</td>\n      <td>100</td>\n      <td>120</td>\n      <td>3000</td>\n    </tr>\n    <tr>\n      <th>18</th>\n      <td>18</td>\n      <td>45</td>\n      <td>'2020/12/18'</td>\n      <td>90</td>\n      <td>112</td>\n      <td>NaN</td>\n    </tr>\n    <tr>\n      <th>19</th>\n      <td>19</td>\n      <td>60</td>\n      <td>'2020/12/19'</td>\n      <td>103</td>\n      <td>123</td>\n      <td>3230</td>\n    </tr>\n    <tr>\n      <th>20</th>\n      <td>20</td>\n      <td>45</td>\n      <td>'2020/12/20'</td>\n      <td>97</td>\n      <td>125</td>\n      <td>2430 2</td>\n    </tr>\n    <tr>\n      <th>21</th>\n      <td>1</td>\n      <td>60</td>\n      <td>'2020/12/21'</td>\n      <td>108</td>\n      <td>131</td>\n      <td>3642</td>\n    </tr>\n    <tr>\n      <th>22</th>\n      <td>22</td>\n      <td>45</td>\n      <td>NaN</td>\n      <td>100</td>\n      <td>119</td>\n      <td>2820</td>\n    </tr>\n    <tr>\n      <th>23</th>\n      <td>23</td>\n      <td>60</td>\n      <td>'2020/12/23'</td>\n      <td>130</td>\n      <td>101</td>\n      <td>3000</td>\n    </tr>\n    <tr>\n      <th>24</th>\n      <td>24</td>\n      <td>45</td>\n      <td>'2020/12/24'</td>\n      <td>105</td>\n      <td>132</td>\n      <td>2460</td>\n    </tr>\n    <tr>\n      <th>25</th>\n      <td>25</td>\n      <td>60</td>\n      <td>'2020/12/25'</td>\n      <td>102</td>\n      <td>126</td>\n      <td>3345</td>\n    </tr>\n    <tr>\n      <th>26</th>\n      <td>26</td>\n      <td>60</td>\n      <td>20201226</td>\n      <td>100</td>\n      <td>120</td>\n      <td>2500</td>\n    </tr>\n    <tr>\n      <th>27</th>\n      <td>27</td>\n      <td>60</td>\n      <td>'2020/12/27'</td>\n      <td>92</td>\n      <td>118</td>\n      <td>2410</td>\n    </tr>\n    <tr>\n      <th>28</th>\n      <td>28</td>\n      <td>60</td>\n      <td>'2020/12/28'</td>\n      <td>103</td>\n      <td>132</td>\n      <td>NaN</td>\n    </tr>\n    <tr>\n      <th>29</th>\n      <td>29</td>\n      <td>60</td>\n      <td>'2020/12/29'</td>\n      <td>100</td>\n      <td>132</td>\n      <td>2800</td>\n    </tr>\n    <tr>\n      <th>30</th>\n      <td>30</td>\n      <td>60</td>\n      <td>'2020/12/30'</td>\n      <td>102</td>\n      <td>129</td>\n      <td>3803</td>\n    </tr>\n    <tr>\n      <th>31</th>\n      <td>31</td>\n      <td>60</td>\n      <td>'2020/12/31'</td>\n      <td>92</td>\n      <td>115</td>\n      <td>2430</td>\n    </tr>\n  </tbody>\n</table>\n</div>"
          },
          "metadata": {}
        }
      ],
      "execution_count": 29
    },
    {
      "id": "f85c0b60-fcf9-41ad-8dce-d65d7c999bfe",
      "cell_type": "code",
      "source": "arqCopy['Calories'] = teste",
      "metadata": {
        "trusted": true
      },
      "outputs": [],
      "execution_count": 30
    },
    {
      "id": "04a65b62-82eb-4e77-b6e9-2343580c158c",
      "cell_type": "code",
      "source": "arqCopy",
      "metadata": {
        "trusted": true
      },
      "outputs": [
        {
          "execution_count": 31,
          "output_type": "execute_result",
          "data": {
            "text/plain": "    ID  Duration          Date  Pulse  Maxpulse Calories\n0    0        60  '2020/12/01'    110       130     4091\n1    1        60  '2020/12/02'    117       145     4790\n2    2        60  '2020/12/03'    103       135     3400\n3    3        45  '2020/12/04'    109       175     2824\n4    4        45  '2020/12/05'    117       148     4060\n5    5        60  '2020/12/06'    102       127     3000\n6    6        60  '2020/12/07'    110       136     3740\n7    7       450  '2020/12/08'    104       134     2533\n8    8        30  '2020/12/09'    109       133     1951\n9    9        60  '2020/12/10'     98       124     2690\n10  10        60  '2020/12/11'    103       147     3293\n11  11        60  '2020/12/12'    100       120     2507\n12  12        60  '2020/12/12'    100       120     2507\n13  13        60  '2020/12/13'    106       128     3453\n14  14        60  '2020/12/14'    104       132     3793\n15  15        60  '2020/12/15'     98       123     2750\n16  16        60  '2020/12/16'     98       120     2152\n17  17        60  '2020/12/17'    100       120     3000\n18  18        45  '2020/12/18'     90       112        0\n19  19        60  '2020/12/19'    103       123     3230\n20  20        45  '2020/12/20'     97       125   2430 2\n21   1        60  '2020/12/21'    108       131     3642\n22  22        45           NaN    100       119     2820\n23  23        60  '2020/12/23'    130       101     3000\n24  24        45  '2020/12/24'    105       132     2460\n25  25        60  '2020/12/25'    102       126     3345\n26  26        60      20201226    100       120     2500\n27  27        60  '2020/12/27'     92       118     2410\n28  28        60  '2020/12/28'    103       132        0\n29  29        60  '2020/12/29'    100       132     2800\n30  30        60  '2020/12/30'    102       129     3803\n31  31        60  '2020/12/31'     92       115     2430",
            "text/html": "<div>\n<style scoped>\n    .dataframe tbody tr th:only-of-type {\n        vertical-align: middle;\n    }\n\n    .dataframe tbody tr th {\n        vertical-align: top;\n    }\n\n    .dataframe thead th {\n        text-align: right;\n    }\n</style>\n<table border=\"1\" class=\"dataframe\">\n  <thead>\n    <tr style=\"text-align: right;\">\n      <th></th>\n      <th>ID</th>\n      <th>Duration</th>\n      <th>Date</th>\n      <th>Pulse</th>\n      <th>Maxpulse</th>\n      <th>Calories</th>\n    </tr>\n  </thead>\n  <tbody>\n    <tr>\n      <th>0</th>\n      <td>0</td>\n      <td>60</td>\n      <td>'2020/12/01'</td>\n      <td>110</td>\n      <td>130</td>\n      <td>4091</td>\n    </tr>\n    <tr>\n      <th>1</th>\n      <td>1</td>\n      <td>60</td>\n      <td>'2020/12/02'</td>\n      <td>117</td>\n      <td>145</td>\n      <td>4790</td>\n    </tr>\n    <tr>\n      <th>2</th>\n      <td>2</td>\n      <td>60</td>\n      <td>'2020/12/03'</td>\n      <td>103</td>\n      <td>135</td>\n      <td>3400</td>\n    </tr>\n    <tr>\n      <th>3</th>\n      <td>3</td>\n      <td>45</td>\n      <td>'2020/12/04'</td>\n      <td>109</td>\n      <td>175</td>\n      <td>2824</td>\n    </tr>\n    <tr>\n      <th>4</th>\n      <td>4</td>\n      <td>45</td>\n      <td>'2020/12/05'</td>\n      <td>117</td>\n      <td>148</td>\n      <td>4060</td>\n    </tr>\n    <tr>\n      <th>5</th>\n      <td>5</td>\n      <td>60</td>\n      <td>'2020/12/06'</td>\n      <td>102</td>\n      <td>127</td>\n      <td>3000</td>\n    </tr>\n    <tr>\n      <th>6</th>\n      <td>6</td>\n      <td>60</td>\n      <td>'2020/12/07'</td>\n      <td>110</td>\n      <td>136</td>\n      <td>3740</td>\n    </tr>\n    <tr>\n      <th>7</th>\n      <td>7</td>\n      <td>450</td>\n      <td>'2020/12/08'</td>\n      <td>104</td>\n      <td>134</td>\n      <td>2533</td>\n    </tr>\n    <tr>\n      <th>8</th>\n      <td>8</td>\n      <td>30</td>\n      <td>'2020/12/09'</td>\n      <td>109</td>\n      <td>133</td>\n      <td>1951</td>\n    </tr>\n    <tr>\n      <th>9</th>\n      <td>9</td>\n      <td>60</td>\n      <td>'2020/12/10'</td>\n      <td>98</td>\n      <td>124</td>\n      <td>2690</td>\n    </tr>\n    <tr>\n      <th>10</th>\n      <td>10</td>\n      <td>60</td>\n      <td>'2020/12/11'</td>\n      <td>103</td>\n      <td>147</td>\n      <td>3293</td>\n    </tr>\n    <tr>\n      <th>11</th>\n      <td>11</td>\n      <td>60</td>\n      <td>'2020/12/12'</td>\n      <td>100</td>\n      <td>120</td>\n      <td>2507</td>\n    </tr>\n    <tr>\n      <th>12</th>\n      <td>12</td>\n      <td>60</td>\n      <td>'2020/12/12'</td>\n      <td>100</td>\n      <td>120</td>\n      <td>2507</td>\n    </tr>\n    <tr>\n      <th>13</th>\n      <td>13</td>\n      <td>60</td>\n      <td>'2020/12/13'</td>\n      <td>106</td>\n      <td>128</td>\n      <td>3453</td>\n    </tr>\n    <tr>\n      <th>14</th>\n      <td>14</td>\n      <td>60</td>\n      <td>'2020/12/14'</td>\n      <td>104</td>\n      <td>132</td>\n      <td>3793</td>\n    </tr>\n    <tr>\n      <th>15</th>\n      <td>15</td>\n      <td>60</td>\n      <td>'2020/12/15'</td>\n      <td>98</td>\n      <td>123</td>\n      <td>2750</td>\n    </tr>\n    <tr>\n      <th>16</th>\n      <td>16</td>\n      <td>60</td>\n      <td>'2020/12/16'</td>\n      <td>98</td>\n      <td>120</td>\n      <td>2152</td>\n    </tr>\n    <tr>\n      <th>17</th>\n      <td>17</td>\n      <td>60</td>\n      <td>'2020/12/17'</td>\n      <td>100</td>\n      <td>120</td>\n      <td>3000</td>\n    </tr>\n    <tr>\n      <th>18</th>\n      <td>18</td>\n      <td>45</td>\n      <td>'2020/12/18'</td>\n      <td>90</td>\n      <td>112</td>\n      <td>0</td>\n    </tr>\n    <tr>\n      <th>19</th>\n      <td>19</td>\n      <td>60</td>\n      <td>'2020/12/19'</td>\n      <td>103</td>\n      <td>123</td>\n      <td>3230</td>\n    </tr>\n    <tr>\n      <th>20</th>\n      <td>20</td>\n      <td>45</td>\n      <td>'2020/12/20'</td>\n      <td>97</td>\n      <td>125</td>\n      <td>2430 2</td>\n    </tr>\n    <tr>\n      <th>21</th>\n      <td>1</td>\n      <td>60</td>\n      <td>'2020/12/21'</td>\n      <td>108</td>\n      <td>131</td>\n      <td>3642</td>\n    </tr>\n    <tr>\n      <th>22</th>\n      <td>22</td>\n      <td>45</td>\n      <td>NaN</td>\n      <td>100</td>\n      <td>119</td>\n      <td>2820</td>\n    </tr>\n    <tr>\n      <th>23</th>\n      <td>23</td>\n      <td>60</td>\n      <td>'2020/12/23'</td>\n      <td>130</td>\n      <td>101</td>\n      <td>3000</td>\n    </tr>\n    <tr>\n      <th>24</th>\n      <td>24</td>\n      <td>45</td>\n      <td>'2020/12/24'</td>\n      <td>105</td>\n      <td>132</td>\n      <td>2460</td>\n    </tr>\n    <tr>\n      <th>25</th>\n      <td>25</td>\n      <td>60</td>\n      <td>'2020/12/25'</td>\n      <td>102</td>\n      <td>126</td>\n      <td>3345</td>\n    </tr>\n    <tr>\n      <th>26</th>\n      <td>26</td>\n      <td>60</td>\n      <td>20201226</td>\n      <td>100</td>\n      <td>120</td>\n      <td>2500</td>\n    </tr>\n    <tr>\n      <th>27</th>\n      <td>27</td>\n      <td>60</td>\n      <td>'2020/12/27'</td>\n      <td>92</td>\n      <td>118</td>\n      <td>2410</td>\n    </tr>\n    <tr>\n      <th>28</th>\n      <td>28</td>\n      <td>60</td>\n      <td>'2020/12/28'</td>\n      <td>103</td>\n      <td>132</td>\n      <td>0</td>\n    </tr>\n    <tr>\n      <th>29</th>\n      <td>29</td>\n      <td>60</td>\n      <td>'2020/12/29'</td>\n      <td>100</td>\n      <td>132</td>\n      <td>2800</td>\n    </tr>\n    <tr>\n      <th>30</th>\n      <td>30</td>\n      <td>60</td>\n      <td>'2020/12/30'</td>\n      <td>102</td>\n      <td>129</td>\n      <td>3803</td>\n    </tr>\n    <tr>\n      <th>31</th>\n      <td>31</td>\n      <td>60</td>\n      <td>'2020/12/31'</td>\n      <td>92</td>\n      <td>115</td>\n      <td>2430</td>\n    </tr>\n  </tbody>\n</table>\n</div>"
          },
          "metadata": {}
        }
      ],
      "execution_count": 31
    },
    {
      "id": "a4cb1d3d-cd42-4555-b924-771bc3947501",
      "cell_type": "code",
      "source": "data = arqCopy['Date'].fillna('1900/01/01')\ndata",
      "metadata": {
        "trusted": true
      },
      "outputs": [
        {
          "execution_count": 32,
          "output_type": "execute_result",
          "data": {
            "text/plain": "0     '2020/12/01'\n1     '2020/12/02'\n2     '2020/12/03'\n3     '2020/12/04'\n4     '2020/12/05'\n5     '2020/12/06'\n6     '2020/12/07'\n7     '2020/12/08'\n8     '2020/12/09'\n9     '2020/12/10'\n10    '2020/12/11'\n11    '2020/12/12'\n12    '2020/12/12'\n13    '2020/12/13'\n14    '2020/12/14'\n15    '2020/12/15'\n16    '2020/12/16'\n17    '2020/12/17'\n18    '2020/12/18'\n19    '2020/12/19'\n20    '2020/12/20'\n21    '2020/12/21'\n22      1900/01/01\n23    '2020/12/23'\n24    '2020/12/24'\n25    '2020/12/25'\n26        20201226\n27    '2020/12/27'\n28    '2020/12/28'\n29    '2020/12/29'\n30    '2020/12/30'\n31    '2020/12/31'\nName: Date, dtype: object"
          },
          "metadata": {}
        }
      ],
      "execution_count": 32
    },
    {
      "id": "82c99536-8d74-4c6a-b0aa-623cc17b1155",
      "cell_type": "code",
      "source": "arqCopy['Date'] = data\narqCopy",
      "metadata": {
        "trusted": true
      },
      "outputs": [
        {
          "execution_count": 34,
          "output_type": "execute_result",
          "data": {
            "text/plain": "    ID  Duration          Date  Pulse  Maxpulse Calories\n0    0        60  '2020/12/01'    110       130     4091\n1    1        60  '2020/12/02'    117       145     4790\n2    2        60  '2020/12/03'    103       135     3400\n3    3        45  '2020/12/04'    109       175     2824\n4    4        45  '2020/12/05'    117       148     4060\n5    5        60  '2020/12/06'    102       127     3000\n6    6        60  '2020/12/07'    110       136     3740\n7    7       450  '2020/12/08'    104       134     2533\n8    8        30  '2020/12/09'    109       133     1951\n9    9        60  '2020/12/10'     98       124     2690\n10  10        60  '2020/12/11'    103       147     3293\n11  11        60  '2020/12/12'    100       120     2507\n12  12        60  '2020/12/12'    100       120     2507\n13  13        60  '2020/12/13'    106       128     3453\n14  14        60  '2020/12/14'    104       132     3793\n15  15        60  '2020/12/15'     98       123     2750\n16  16        60  '2020/12/16'     98       120     2152\n17  17        60  '2020/12/17'    100       120     3000\n18  18        45  '2020/12/18'     90       112        0\n19  19        60  '2020/12/19'    103       123     3230\n20  20        45  '2020/12/20'     97       125   2430 2\n21   1        60  '2020/12/21'    108       131     3642\n22  22        45    1900/01/01    100       119     2820\n23  23        60  '2020/12/23'    130       101     3000\n24  24        45  '2020/12/24'    105       132     2460\n25  25        60  '2020/12/25'    102       126     3345\n26  26        60      20201226    100       120     2500\n27  27        60  '2020/12/27'     92       118     2410\n28  28        60  '2020/12/28'    103       132        0\n29  29        60  '2020/12/29'    100       132     2800\n30  30        60  '2020/12/30'    102       129     3803\n31  31        60  '2020/12/31'     92       115     2430",
            "text/html": "<div>\n<style scoped>\n    .dataframe tbody tr th:only-of-type {\n        vertical-align: middle;\n    }\n\n    .dataframe tbody tr th {\n        vertical-align: top;\n    }\n\n    .dataframe thead th {\n        text-align: right;\n    }\n</style>\n<table border=\"1\" class=\"dataframe\">\n  <thead>\n    <tr style=\"text-align: right;\">\n      <th></th>\n      <th>ID</th>\n      <th>Duration</th>\n      <th>Date</th>\n      <th>Pulse</th>\n      <th>Maxpulse</th>\n      <th>Calories</th>\n    </tr>\n  </thead>\n  <tbody>\n    <tr>\n      <th>0</th>\n      <td>0</td>\n      <td>60</td>\n      <td>'2020/12/01'</td>\n      <td>110</td>\n      <td>130</td>\n      <td>4091</td>\n    </tr>\n    <tr>\n      <th>1</th>\n      <td>1</td>\n      <td>60</td>\n      <td>'2020/12/02'</td>\n      <td>117</td>\n      <td>145</td>\n      <td>4790</td>\n    </tr>\n    <tr>\n      <th>2</th>\n      <td>2</td>\n      <td>60</td>\n      <td>'2020/12/03'</td>\n      <td>103</td>\n      <td>135</td>\n      <td>3400</td>\n    </tr>\n    <tr>\n      <th>3</th>\n      <td>3</td>\n      <td>45</td>\n      <td>'2020/12/04'</td>\n      <td>109</td>\n      <td>175</td>\n      <td>2824</td>\n    </tr>\n    <tr>\n      <th>4</th>\n      <td>4</td>\n      <td>45</td>\n      <td>'2020/12/05'</td>\n      <td>117</td>\n      <td>148</td>\n      <td>4060</td>\n    </tr>\n    <tr>\n      <th>5</th>\n      <td>5</td>\n      <td>60</td>\n      <td>'2020/12/06'</td>\n      <td>102</td>\n      <td>127</td>\n      <td>3000</td>\n    </tr>\n    <tr>\n      <th>6</th>\n      <td>6</td>\n      <td>60</td>\n      <td>'2020/12/07'</td>\n      <td>110</td>\n      <td>136</td>\n      <td>3740</td>\n    </tr>\n    <tr>\n      <th>7</th>\n      <td>7</td>\n      <td>450</td>\n      <td>'2020/12/08'</td>\n      <td>104</td>\n      <td>134</td>\n      <td>2533</td>\n    </tr>\n    <tr>\n      <th>8</th>\n      <td>8</td>\n      <td>30</td>\n      <td>'2020/12/09'</td>\n      <td>109</td>\n      <td>133</td>\n      <td>1951</td>\n    </tr>\n    <tr>\n      <th>9</th>\n      <td>9</td>\n      <td>60</td>\n      <td>'2020/12/10'</td>\n      <td>98</td>\n      <td>124</td>\n      <td>2690</td>\n    </tr>\n    <tr>\n      <th>10</th>\n      <td>10</td>\n      <td>60</td>\n      <td>'2020/12/11'</td>\n      <td>103</td>\n      <td>147</td>\n      <td>3293</td>\n    </tr>\n    <tr>\n      <th>11</th>\n      <td>11</td>\n      <td>60</td>\n      <td>'2020/12/12'</td>\n      <td>100</td>\n      <td>120</td>\n      <td>2507</td>\n    </tr>\n    <tr>\n      <th>12</th>\n      <td>12</td>\n      <td>60</td>\n      <td>'2020/12/12'</td>\n      <td>100</td>\n      <td>120</td>\n      <td>2507</td>\n    </tr>\n    <tr>\n      <th>13</th>\n      <td>13</td>\n      <td>60</td>\n      <td>'2020/12/13'</td>\n      <td>106</td>\n      <td>128</td>\n      <td>3453</td>\n    </tr>\n    <tr>\n      <th>14</th>\n      <td>14</td>\n      <td>60</td>\n      <td>'2020/12/14'</td>\n      <td>104</td>\n      <td>132</td>\n      <td>3793</td>\n    </tr>\n    <tr>\n      <th>15</th>\n      <td>15</td>\n      <td>60</td>\n      <td>'2020/12/15'</td>\n      <td>98</td>\n      <td>123</td>\n      <td>2750</td>\n    </tr>\n    <tr>\n      <th>16</th>\n      <td>16</td>\n      <td>60</td>\n      <td>'2020/12/16'</td>\n      <td>98</td>\n      <td>120</td>\n      <td>2152</td>\n    </tr>\n    <tr>\n      <th>17</th>\n      <td>17</td>\n      <td>60</td>\n      <td>'2020/12/17'</td>\n      <td>100</td>\n      <td>120</td>\n      <td>3000</td>\n    </tr>\n    <tr>\n      <th>18</th>\n      <td>18</td>\n      <td>45</td>\n      <td>'2020/12/18'</td>\n      <td>90</td>\n      <td>112</td>\n      <td>0</td>\n    </tr>\n    <tr>\n      <th>19</th>\n      <td>19</td>\n      <td>60</td>\n      <td>'2020/12/19'</td>\n      <td>103</td>\n      <td>123</td>\n      <td>3230</td>\n    </tr>\n    <tr>\n      <th>20</th>\n      <td>20</td>\n      <td>45</td>\n      <td>'2020/12/20'</td>\n      <td>97</td>\n      <td>125</td>\n      <td>2430 2</td>\n    </tr>\n    <tr>\n      <th>21</th>\n      <td>1</td>\n      <td>60</td>\n      <td>'2020/12/21'</td>\n      <td>108</td>\n      <td>131</td>\n      <td>3642</td>\n    </tr>\n    <tr>\n      <th>22</th>\n      <td>22</td>\n      <td>45</td>\n      <td>1900/01/01</td>\n      <td>100</td>\n      <td>119</td>\n      <td>2820</td>\n    </tr>\n    <tr>\n      <th>23</th>\n      <td>23</td>\n      <td>60</td>\n      <td>'2020/12/23'</td>\n      <td>130</td>\n      <td>101</td>\n      <td>3000</td>\n    </tr>\n    <tr>\n      <th>24</th>\n      <td>24</td>\n      <td>45</td>\n      <td>'2020/12/24'</td>\n      <td>105</td>\n      <td>132</td>\n      <td>2460</td>\n    </tr>\n    <tr>\n      <th>25</th>\n      <td>25</td>\n      <td>60</td>\n      <td>'2020/12/25'</td>\n      <td>102</td>\n      <td>126</td>\n      <td>3345</td>\n    </tr>\n    <tr>\n      <th>26</th>\n      <td>26</td>\n      <td>60</td>\n      <td>20201226</td>\n      <td>100</td>\n      <td>120</td>\n      <td>2500</td>\n    </tr>\n    <tr>\n      <th>27</th>\n      <td>27</td>\n      <td>60</td>\n      <td>'2020/12/27'</td>\n      <td>92</td>\n      <td>118</td>\n      <td>2410</td>\n    </tr>\n    <tr>\n      <th>28</th>\n      <td>28</td>\n      <td>60</td>\n      <td>'2020/12/28'</td>\n      <td>103</td>\n      <td>132</td>\n      <td>0</td>\n    </tr>\n    <tr>\n      <th>29</th>\n      <td>29</td>\n      <td>60</td>\n      <td>'2020/12/29'</td>\n      <td>100</td>\n      <td>132</td>\n      <td>2800</td>\n    </tr>\n    <tr>\n      <th>30</th>\n      <td>30</td>\n      <td>60</td>\n      <td>'2020/12/30'</td>\n      <td>102</td>\n      <td>129</td>\n      <td>3803</td>\n    </tr>\n    <tr>\n      <th>31</th>\n      <td>31</td>\n      <td>60</td>\n      <td>'2020/12/31'</td>\n      <td>92</td>\n      <td>115</td>\n      <td>2430</td>\n    </tr>\n  </tbody>\n</table>\n</div>"
          },
          "metadata": {}
        }
      ],
      "execution_count": 34
    },
    {
      "id": "7c2e6ed7-5c5f-4b8f-8441-5ec31a082c2d",
      "cell_type": "code",
      "source": "arqCopy['Date'] = pd.to_datetime(arqCopy['Date'], format='mixed')\narqCopy.info()",
      "metadata": {
        "trusted": true
      },
      "outputs": [
        {
          "name": "stdout",
          "output_type": "stream",
          "text": "<class 'pandas.core.frame.DataFrame'>\nRangeIndex: 32 entries, 0 to 31\nData columns (total 6 columns):\n #   Column    Non-Null Count  Dtype         \n---  ------    --------------  -----         \n 0   ID        32 non-null     int64         \n 1   Duration  32 non-null     int64         \n 2   Date      32 non-null     datetime64[ns]\n 3   Pulse     32 non-null     int64         \n 4   Maxpulse  32 non-null     int64         \n 5   Calories  32 non-null     object        \ndtypes: datetime64[ns](1), int64(4), object(1)\nmemory usage: 1.4+ KB\n"
        }
      ],
      "execution_count": 38
    },
    {
      "id": "cb6741f5-2b9d-4e76-8c63-7d3df7f6c40c",
      "cell_type": "code",
      "source": "arqCopy",
      "metadata": {
        "trusted": true
      },
      "outputs": [
        {
          "execution_count": 39,
          "output_type": "execute_result",
          "data": {
            "text/plain": "    ID  Duration       Date  Pulse  Maxpulse Calories\n0    0        60 2020-12-01    110       130     4091\n1    1        60 2020-12-02    117       145     4790\n2    2        60 2020-12-03    103       135     3400\n3    3        45 2020-12-04    109       175     2824\n4    4        45 2020-12-05    117       148     4060\n5    5        60 2020-12-06    102       127     3000\n6    6        60 2020-12-07    110       136     3740\n7    7       450 2020-12-08    104       134     2533\n8    8        30 2020-12-09    109       133     1951\n9    9        60 2020-12-10     98       124     2690\n10  10        60 2020-12-11    103       147     3293\n11  11        60 2020-12-12    100       120     2507\n12  12        60 2020-12-12    100       120     2507\n13  13        60 2020-12-13    106       128     3453\n14  14        60 2020-12-14    104       132     3793\n15  15        60 2020-12-15     98       123     2750\n16  16        60 2020-12-16     98       120     2152\n17  17        60 2020-12-17    100       120     3000\n18  18        45 2020-12-18     90       112        0\n19  19        60 2020-12-19    103       123     3230\n20  20        45 2020-12-20     97       125   2430 2\n21   1        60 2020-12-21    108       131     3642\n22  22        45 1900-01-01    100       119     2820\n23  23        60 2020-12-23    130       101     3000\n24  24        45 2020-12-24    105       132     2460\n25  25        60 2020-12-25    102       126     3345\n26  26        60 2020-12-26    100       120     2500\n27  27        60 2020-12-27     92       118     2410\n28  28        60 2020-12-28    103       132        0\n29  29        60 2020-12-29    100       132     2800\n30  30        60 2020-12-30    102       129     3803\n31  31        60 2020-12-31     92       115     2430",
            "text/html": "<div>\n<style scoped>\n    .dataframe tbody tr th:only-of-type {\n        vertical-align: middle;\n    }\n\n    .dataframe tbody tr th {\n        vertical-align: top;\n    }\n\n    .dataframe thead th {\n        text-align: right;\n    }\n</style>\n<table border=\"1\" class=\"dataframe\">\n  <thead>\n    <tr style=\"text-align: right;\">\n      <th></th>\n      <th>ID</th>\n      <th>Duration</th>\n      <th>Date</th>\n      <th>Pulse</th>\n      <th>Maxpulse</th>\n      <th>Calories</th>\n    </tr>\n  </thead>\n  <tbody>\n    <tr>\n      <th>0</th>\n      <td>0</td>\n      <td>60</td>\n      <td>2020-12-01</td>\n      <td>110</td>\n      <td>130</td>\n      <td>4091</td>\n    </tr>\n    <tr>\n      <th>1</th>\n      <td>1</td>\n      <td>60</td>\n      <td>2020-12-02</td>\n      <td>117</td>\n      <td>145</td>\n      <td>4790</td>\n    </tr>\n    <tr>\n      <th>2</th>\n      <td>2</td>\n      <td>60</td>\n      <td>2020-12-03</td>\n      <td>103</td>\n      <td>135</td>\n      <td>3400</td>\n    </tr>\n    <tr>\n      <th>3</th>\n      <td>3</td>\n      <td>45</td>\n      <td>2020-12-04</td>\n      <td>109</td>\n      <td>175</td>\n      <td>2824</td>\n    </tr>\n    <tr>\n      <th>4</th>\n      <td>4</td>\n      <td>45</td>\n      <td>2020-12-05</td>\n      <td>117</td>\n      <td>148</td>\n      <td>4060</td>\n    </tr>\n    <tr>\n      <th>5</th>\n      <td>5</td>\n      <td>60</td>\n      <td>2020-12-06</td>\n      <td>102</td>\n      <td>127</td>\n      <td>3000</td>\n    </tr>\n    <tr>\n      <th>6</th>\n      <td>6</td>\n      <td>60</td>\n      <td>2020-12-07</td>\n      <td>110</td>\n      <td>136</td>\n      <td>3740</td>\n    </tr>\n    <tr>\n      <th>7</th>\n      <td>7</td>\n      <td>450</td>\n      <td>2020-12-08</td>\n      <td>104</td>\n      <td>134</td>\n      <td>2533</td>\n    </tr>\n    <tr>\n      <th>8</th>\n      <td>8</td>\n      <td>30</td>\n      <td>2020-12-09</td>\n      <td>109</td>\n      <td>133</td>\n      <td>1951</td>\n    </tr>\n    <tr>\n      <th>9</th>\n      <td>9</td>\n      <td>60</td>\n      <td>2020-12-10</td>\n      <td>98</td>\n      <td>124</td>\n      <td>2690</td>\n    </tr>\n    <tr>\n      <th>10</th>\n      <td>10</td>\n      <td>60</td>\n      <td>2020-12-11</td>\n      <td>103</td>\n      <td>147</td>\n      <td>3293</td>\n    </tr>\n    <tr>\n      <th>11</th>\n      <td>11</td>\n      <td>60</td>\n      <td>2020-12-12</td>\n      <td>100</td>\n      <td>120</td>\n      <td>2507</td>\n    </tr>\n    <tr>\n      <th>12</th>\n      <td>12</td>\n      <td>60</td>\n      <td>2020-12-12</td>\n      <td>100</td>\n      <td>120</td>\n      <td>2507</td>\n    </tr>\n    <tr>\n      <th>13</th>\n      <td>13</td>\n      <td>60</td>\n      <td>2020-12-13</td>\n      <td>106</td>\n      <td>128</td>\n      <td>3453</td>\n    </tr>\n    <tr>\n      <th>14</th>\n      <td>14</td>\n      <td>60</td>\n      <td>2020-12-14</td>\n      <td>104</td>\n      <td>132</td>\n      <td>3793</td>\n    </tr>\n    <tr>\n      <th>15</th>\n      <td>15</td>\n      <td>60</td>\n      <td>2020-12-15</td>\n      <td>98</td>\n      <td>123</td>\n      <td>2750</td>\n    </tr>\n    <tr>\n      <th>16</th>\n      <td>16</td>\n      <td>60</td>\n      <td>2020-12-16</td>\n      <td>98</td>\n      <td>120</td>\n      <td>2152</td>\n    </tr>\n    <tr>\n      <th>17</th>\n      <td>17</td>\n      <td>60</td>\n      <td>2020-12-17</td>\n      <td>100</td>\n      <td>120</td>\n      <td>3000</td>\n    </tr>\n    <tr>\n      <th>18</th>\n      <td>18</td>\n      <td>45</td>\n      <td>2020-12-18</td>\n      <td>90</td>\n      <td>112</td>\n      <td>0</td>\n    </tr>\n    <tr>\n      <th>19</th>\n      <td>19</td>\n      <td>60</td>\n      <td>2020-12-19</td>\n      <td>103</td>\n      <td>123</td>\n      <td>3230</td>\n    </tr>\n    <tr>\n      <th>20</th>\n      <td>20</td>\n      <td>45</td>\n      <td>2020-12-20</td>\n      <td>97</td>\n      <td>125</td>\n      <td>2430 2</td>\n    </tr>\n    <tr>\n      <th>21</th>\n      <td>1</td>\n      <td>60</td>\n      <td>2020-12-21</td>\n      <td>108</td>\n      <td>131</td>\n      <td>3642</td>\n    </tr>\n    <tr>\n      <th>22</th>\n      <td>22</td>\n      <td>45</td>\n      <td>1900-01-01</td>\n      <td>100</td>\n      <td>119</td>\n      <td>2820</td>\n    </tr>\n    <tr>\n      <th>23</th>\n      <td>23</td>\n      <td>60</td>\n      <td>2020-12-23</td>\n      <td>130</td>\n      <td>101</td>\n      <td>3000</td>\n    </tr>\n    <tr>\n      <th>24</th>\n      <td>24</td>\n      <td>45</td>\n      <td>2020-12-24</td>\n      <td>105</td>\n      <td>132</td>\n      <td>2460</td>\n    </tr>\n    <tr>\n      <th>25</th>\n      <td>25</td>\n      <td>60</td>\n      <td>2020-12-25</td>\n      <td>102</td>\n      <td>126</td>\n      <td>3345</td>\n    </tr>\n    <tr>\n      <th>26</th>\n      <td>26</td>\n      <td>60</td>\n      <td>2020-12-26</td>\n      <td>100</td>\n      <td>120</td>\n      <td>2500</td>\n    </tr>\n    <tr>\n      <th>27</th>\n      <td>27</td>\n      <td>60</td>\n      <td>2020-12-27</td>\n      <td>92</td>\n      <td>118</td>\n      <td>2410</td>\n    </tr>\n    <tr>\n      <th>28</th>\n      <td>28</td>\n      <td>60</td>\n      <td>2020-12-28</td>\n      <td>103</td>\n      <td>132</td>\n      <td>0</td>\n    </tr>\n    <tr>\n      <th>29</th>\n      <td>29</td>\n      <td>60</td>\n      <td>2020-12-29</td>\n      <td>100</td>\n      <td>132</td>\n      <td>2800</td>\n    </tr>\n    <tr>\n      <th>30</th>\n      <td>30</td>\n      <td>60</td>\n      <td>2020-12-30</td>\n      <td>102</td>\n      <td>129</td>\n      <td>3803</td>\n    </tr>\n    <tr>\n      <th>31</th>\n      <td>31</td>\n      <td>60</td>\n      <td>2020-12-31</td>\n      <td>92</td>\n      <td>115</td>\n      <td>2430</td>\n    </tr>\n  </tbody>\n</table>\n</div>"
          },
          "metadata": {}
        }
      ],
      "execution_count": 39
    },
    {
      "id": "44b634e5-25ae-432c-a16e-bcc13a867394",
      "cell_type": "code",
      "source": "",
      "metadata": {
        "trusted": true
      },
      "outputs": [],
      "execution_count": null
    }
  ]
}